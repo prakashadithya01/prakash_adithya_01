{
 "cells": [
  {
   "cell_type": "markdown",
   "id": "1c2d6da6",
   "metadata": {},
   "source": [
    "# Classwork Day - 2"
   ]
  },
  {
   "cell_type": "code",
   "execution_count": null,
   "id": "29387570",
   "metadata": {},
   "outputs": [],
   "source": [
    "import os"
   ]
  },
  {
   "cell_type": "code",
   "execution_count": 2,
   "id": "721ccc92",
   "metadata": {},
   "outputs": [
    {
     "data": {
      "text/plain": [
       "'C:\\\\Users\\\\user\\\\Python - EDA'"
      ]
     },
     "execution_count": 2,
     "metadata": {},
     "output_type": "execute_result"
    }
   ],
   "source": [
    "%pwd"
   ]
  },
  {
   "cell_type": "markdown",
   "id": "bb36146a",
   "metadata": {},
   "source": [
    "# Create a new directory."
   ]
  },
  {
   "cell_type": "code",
   "execution_count": 3,
   "id": "534a3388",
   "metadata": {},
   "outputs": [],
   "source": [
    "new_dir = \"Geekster\""
   ]
  },
  {
   "cell_type": "code",
   "execution_count": 4,
   "id": "1682542a",
   "metadata": {},
   "outputs": [],
   "source": [
    "os.mkdir(new_dir)"
   ]
  },
  {
   "cell_type": "code",
   "execution_count": 8,
   "id": "e96bb396",
   "metadata": {},
   "outputs": [
    {
     "data": {
      "text/plain": [
       "'C:\\\\Users\\\\user\\\\Python - EDA'"
      ]
     },
     "execution_count": 8,
     "metadata": {},
     "output_type": "execute_result"
    }
   ],
   "source": [
    "os.getcwd() "
   ]
  },
  {
   "cell_type": "markdown",
   "id": "416a3901",
   "metadata": {},
   "source": [
    "# List all files and directories in the current working directory."
   ]
  },
  {
   "cell_type": "code",
   "execution_count": 6,
   "id": "fa40510a",
   "metadata": {},
   "outputs": [
    {
     "data": {
      "text/plain": [
       "['.ipynb_checkpoints',\n",
       " 'Classwork 2 (Git to Github).ipynb',\n",
       " 'File Handling.ipynb',\n",
       " 'Geekster',\n",
       " 'Git.ipynb',\n",
       " 'Introduction.ipynb',\n",
       " 'joyboy.txt',\n",
       " 'Konoha.txt',\n",
       " 'Konoha_clans.txt',\n",
       " 'odd.txt',\n",
       " 'Straw_hats',\n",
       " 'Web Scraping.ipynb']"
      ]
     },
     "execution_count": 6,
     "metadata": {},
     "output_type": "execute_result"
    }
   ],
   "source": [
    "os.listdir('.')"
   ]
  },
  {
   "cell_type": "markdown",
   "id": "ec918e13",
   "metadata": {},
   "source": [
    "# Create a new text file within the newly created directory and write some content to it."
   ]
  },
  {
   "cell_type": "code",
   "execution_count": 9,
   "id": "3d440c53",
   "metadata": {},
   "outputs": [],
   "source": [
    "with open(\"Geekster/File1.txt\",\"w\") as file:\n",
    "    file.write(\"Geekster programs are for people who are interested to build their career in tech\")"
   ]
  },
  {
   "cell_type": "markdown",
   "id": "45a0be4d",
   "metadata": {},
   "source": [
    "# Read the content of the newly created text file."
   ]
  },
  {
   "cell_type": "code",
   "execution_count": 10,
   "id": "ceb60e56",
   "metadata": {},
   "outputs": [
    {
     "name": "stdout",
     "output_type": "stream",
     "text": [
      "Geekster programs are for people who are interested to build their career in tech\n"
     ]
    }
   ],
   "source": [
    "with open(\"Geekster/File1.txt\",\"r\") as file:\n",
    "    print(file.read())"
   ]
  },
  {
   "cell_type": "markdown",
   "id": "08d45bd0",
   "metadata": {},
   "source": [
    "# Rename the text file."
   ]
  },
  {
   "cell_type": "code",
   "execution_count": 11,
   "id": "d7697269",
   "metadata": {},
   "outputs": [],
   "source": [
    "os.rename(\"Geekster/File1.txt\", \"Geekster/Geeks.txt\")"
   ]
  },
  {
   "cell_type": "markdown",
   "id": "770dc690",
   "metadata": {},
   "source": [
    "# List all files and directories in the new directory after renaming the file."
   ]
  },
  {
   "cell_type": "code",
   "execution_count": 14,
   "id": "f8631835",
   "metadata": {},
   "outputs": [
    {
     "data": {
      "text/plain": [
       "['Geeks.txt']"
      ]
     },
     "execution_count": 14,
     "metadata": {},
     "output_type": "execute_result"
    }
   ],
   "source": [
    "os.listdir(new_dir)"
   ]
  },
  {
   "cell_type": "markdown",
   "id": "0e7296d8",
   "metadata": {},
   "source": [
    "# Delete the new directory and its contents."
   ]
  },
  {
   "cell_type": "code",
   "execution_count": 17,
   "id": "5a057087",
   "metadata": {},
   "outputs": [],
   "source": [
    "import shutil"
   ]
  },
  {
   "cell_type": "code",
   "execution_count": 18,
   "id": "9441bee9",
   "metadata": {},
   "outputs": [],
   "source": [
    "shutil.rmtree(new_dir)"
   ]
  },
  {
   "cell_type": "code",
   "execution_count": 19,
   "id": "3b17335c",
   "metadata": {},
   "outputs": [
    {
     "data": {
      "text/plain": [
       "['.ipynb_checkpoints',\n",
       " 'Classwork 2 (Git to Github).ipynb',\n",
       " 'File Handling.ipynb',\n",
       " 'Git.ipynb',\n",
       " 'Introduction.ipynb',\n",
       " 'joyboy.txt',\n",
       " 'Konoha.txt',\n",
       " 'Konoha_clans.txt',\n",
       " 'odd.txt',\n",
       " 'Straw_hats',\n",
       " 'Web Scraping.ipynb']"
      ]
     },
     "execution_count": 19,
     "metadata": {},
     "output_type": "execute_result"
    }
   ],
   "source": [
    "os.listdir('.')  # Newly created Geekster Directory is removed"
   ]
  }
 ],
 "metadata": {
  "kernelspec": {
   "display_name": "Python 3 (ipykernel)",
   "language": "python",
   "name": "python3"
  },
  "language_info": {
   "codemirror_mode": {
    "name": "ipython",
    "version": 3
   },
   "file_extension": ".py",
   "mimetype": "text/x-python",
   "name": "python",
   "nbconvert_exporter": "python",
   "pygments_lexer": "ipython3",
   "version": "3.9.13"
  }
 },
 "nbformat": 4,
 "nbformat_minor": 5
}
